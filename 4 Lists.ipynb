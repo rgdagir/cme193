{
 "cells": [
  {
   "cell_type": "markdown",
   "metadata": {},
   "source": [
    "# 4. Lists"
   ]
  },
  {
   "cell_type": "markdown",
   "metadata": {},
   "source": [
    "## 4.1: Short Questions"
   ]
  },
  {
   "cell_type": "code",
   "execution_count": 1,
   "metadata": {
    "collapsed": true
   },
   "outputs": [],
   "source": [
    "def print_list(list):\n",
    "    for item in list:\n",
    "        print(item)"
   ]
  },
  {
   "cell_type": "code",
   "execution_count": 2,
   "metadata": {
    "collapsed": true
   },
   "outputs": [],
   "source": [
    "def print_list(list):\n",
    "    new_list = []\n",
    "    for item in list:\n",
    "        new_list.insert(0, item)\n",
    "    for element in new_list:\n",
    "        print(element)"
   ]
  },
  {
   "cell_type": "code",
   "execution_count": 3,
   "metadata": {
    "collapsed": true
   },
   "outputs": [],
   "source": [
    "def myLen(list):\n",
    "    counter = 0\n",
    "    for item in list:\n",
    "        counter+=1\n",
    "    return counter"
   ]
  },
  {
   "cell_type": "markdown",
   "metadata": {},
   "source": [
    "## 4.2: Copying Lists"
   ]
  },
  {
   "cell_type": "code",
   "execution_count": 4,
   "metadata": {
    "collapsed": true
   },
   "outputs": [],
   "source": [
    "a = [1,2,3,4,5,6,7,8,9]\n"
   ]
  },
  {
   "cell_type": "code",
   "execution_count": 5,
   "metadata": {
    "collapsed": true
   },
   "outputs": [],
   "source": [
    "b = a\n"
   ]
  },
  {
   "cell_type": "code",
   "execution_count": 6,
   "metadata": {
    "collapsed": true
   },
   "outputs": [],
   "source": [
    "b[1] = 123\n"
   ]
  },
  {
   "cell_type": "code",
   "execution_count": 7,
   "metadata": {
    "collapsed": true
   },
   "outputs": [],
   "source": [
    "# a[1] changed as well, the same way that b[1] changed\n"
   ]
  },
  {
   "cell_type": "code",
   "execution_count": 8,
   "metadata": {
    "collapsed": true
   },
   "outputs": [],
   "source": [
    "c = a[:]\n"
   ]
  },
  {
   "cell_type": "code",
   "execution_count": 9,
   "metadata": {
    "collapsed": true
   },
   "outputs": [],
   "source": [
    "# This time, list \"a\" didn't change.\n"
   ]
  },
  {
   "cell_type": "code",
   "execution_count": 10,
   "metadata": {
    "collapsed": true
   },
   "outputs": [],
   "source": [
    "def set_first_elem_to_zero(list):\n",
    "    list[0] = 0\n",
    "    return list\n",
    "\n",
    "# The list was changed in and outside of the function"
   ]
  },
  {
   "cell_type": "markdown",
   "metadata": {},
   "source": [
    "## 4.3: Lists of Lists"
   ]
  },
  {
   "cell_type": "code",
   "execution_count": 11,
   "metadata": {
    "collapsed": true
   },
   "outputs": [],
   "source": [
    "# None. They are equal.\n"
   ]
  },
  {
   "cell_type": "markdown",
   "metadata": {},
   "source": [
    "## 4.4: Lists and Functions"
   ]
  },
  {
   "cell_type": "code",
   "execution_count": 12,
   "metadata": {
    "collapsed": true
   },
   "outputs": [],
   "source": [
    "def set_index_to_zero(list, index):\n",
    "    list[index] = 0\n",
    "    return list"
   ]
  },
  {
   "cell_type": "markdown",
   "metadata": {},
   "source": [
    "## 4.5: Primes"
   ]
  },
  {
   "cell_type": "code",
   "execution_count": 13,
   "metadata": {
    "collapsed": true
   },
   "outputs": [],
   "source": [
    "def print_primes(n):\n",
    "    primes_list = []\n",
    "    for i in range (0, n):\n",
    "        if (is_prime(i)):\n",
    "            primes_list.append(i)\n",
    "    return(primes_list)"
   ]
  },
  {
   "cell_type": "code",
   "execution_count": 14,
   "metadata": {
    "collapsed": true
   },
   "outputs": [],
   "source": [
    "def first_primes(n):\n",
    "    counter = 0\n",
    "    primes_list = []\n",
    "    tester = 0\n",
    "    while n > counter:\n",
    "        if (is_prime(tester)):\n",
    "            primes_list.append(tester)\n",
    "            counter += 1\n",
    "            tester += 1\n",
    "        else:\n",
    "            tester += 1\n",
    "    return primes_list"
   ]
  },
  {
   "cell_type": "markdown",
   "metadata": {},
   "source": [
    "## 4.6 List Comprehensions"
   ]
  },
  {
   "cell_type": "code",
   "execution_count": 15,
   "metadata": {
    "collapsed": true
   },
   "outputs": [],
   "source": [
    "def cartestion(x, y):\n",
    "    z = []\n",
    "    for item in x:\n",
    "        for element in y:\n",
    "            z.append([item, element])\n",
    "    return z"
   ]
  },
  {
   "cell_type": "code",
   "execution_count": 16,
   "metadata": {
    "collapsed": true
   },
   "outputs": [],
   "source": [
    "def cartestion2(x, y):\n",
    "    z = []\n",
    "    for item in x:\n",
    "        for element in y:\n",
    "            if (item < element):\n",
    "                z.append([item, element])\n",
    "    return z"
   ]
  },
  {
   "cell_type": "code",
   "execution_count": null,
   "metadata": {
    "collapsed": true
   },
   "outputs": [],
   "source": []
  },
  {
   "cell_type": "code",
   "execution_count": null,
   "metadata": {
    "collapsed": true
   },
   "outputs": [],
   "source": []
  },
  {
   "cell_type": "markdown",
   "metadata": {},
   "source": [
    "## 4.7: Filter"
   ]
  },
  {
   "cell_type": "code",
   "execution_count": 19,
   "metadata": {},
   "outputs": [],
   "source": [
    "def myfilter(obj):\n",
    "    return [x for x in obj ] # + condition "
   ]
  },
  {
   "cell_type": "markdown",
   "metadata": {},
   "source": [
    "## 4.8 Flatten a list of words"
   ]
  },
  {
   "cell_type": "code",
   "execution_count": 20,
   "metadata": {
    "collapsed": true
   },
   "outputs": [],
   "source": [
    "def flatter(listoflists):\n",
    "    unique_list = []\n",
    "    for item in listoflists:\n",
    "        for element in item:\n",
    "            unique_list.append(element)\n",
    "    return unique_list"
   ]
  },
  {
   "cell_type": "markdown",
   "metadata": {},
   "source": [
    "## 4.9: Finding the longest word"
   ]
  },
  {
   "cell_type": "code",
   "execution_count": null,
   "metadata": {
    "collapsed": true
   },
   "outputs": [],
   "source": [
    "#If there is a tie, then the longest word that comes last will be returned\n",
    "# Also, I used regex because I thought it was the best way to trim the expressions\n",
    "import re\n",
    "def find_longest_word(line):\n",
    "    words = line.split()\n",
    "    longest = 0\n",
    "    theWord = \"\"\n",
    "    for item in words:\n",
    "        item = re.sub(r'\\W+', '', item)\n",
    "        if (len(item)>=longest):\n",
    "            longest = len(item)\n",
    "            theWord = item\n",
    "    return theWord"
   ]
  },
  {
   "cell_type": "markdown",
   "metadata": {},
   "source": [
    "## Collatz Sequence, part 2"
   ]
  },
  {
   "cell_type": "code",
   "execution_count": null,
   "metadata": {
    "collapsed": true
   },
   "outputs": [],
   "source": [
    "def calc_collatz(collatz):\n",
    "    collizt = []\n",
    "    while (collatz!=1):\n",
    "        if (collatz % 2 == 1): \n",
    "            collatz = 3 * collatz + 1\n",
    "            collizt.append(collatz)\n",
    "        elif (collatz % 2 == 0):\n",
    "            collatz = collatz / 2\n",
    "            collizt.append(collatz)\n",
    "    return collizt"
   ]
  },
  {
   "cell_type": "code",
   "execution_count": null,
   "metadata": {
    "collapsed": true
   },
   "outputs": [],
   "source": [
    "# This function is highly inefficient and takes a lot of time to run. \n",
    "# What could I do to improve efficiency?\n",
    "\n",
    "def longest_collatz(n):\n",
    "    longest = 0\n",
    "    longest_n = 0\n",
    "    for i in range(n):\n",
    "        result = calc_collatz(i)\n",
    "        length = result[1]\n",
    "        if (length >= longest):\n",
    "            longest = length\n",
    "            longest_n = i\n",
    "    return longest_n"
   ]
  },
  {
   "cell_type": "markdown",
   "metadata": {},
   "source": [
    "## 4.11: Pivots"
   ]
  },
  {
   "cell_type": "code",
   "execution_count": null,
   "metadata": {
    "collapsed": true
   },
   "outputs": [],
   "source": [
    "def pivots(n, list):\n",
    "    list.sort()\n",
    "    for num in list:\n",
    "        if (num >= n):\n",
    "            list.insert(list.index(num), n)\n",
    "            return list\n",
    "    return []"
   ]
  },
  {
   "cell_type": "markdown",
   "metadata": {},
   "source": [
    "## 4.12: Prime Challenge"
   ]
  },
  {
   "cell_type": "code",
   "execution_count": null,
   "metadata": {
    "collapsed": true
   },
   "outputs": [],
   "source": [
    "# TODO"
   ]
  }
 ],
 "metadata": {
  "kernelspec": {
   "display_name": "Python 3",
   "language": "python",
   "name": "python3"
  },
  "language_info": {
   "codemirror_mode": {
    "name": "ipython",
    "version": 3
   },
   "file_extension": ".py",
   "mimetype": "text/x-python",
   "name": "python",
   "nbconvert_exporter": "python",
   "pygments_lexer": "ipython3",
   "version": "3.6.3"
  }
 },
 "nbformat": 4,
 "nbformat_minor": 2
}
