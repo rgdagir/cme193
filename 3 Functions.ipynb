{
 "cells": [
  {
   "cell_type": "markdown",
   "metadata": {},
   "source": [
    "# 3 Functions"
   ]
  },
  {
   "cell_type": "markdown",
   "metadata": {},
   "source": [
    "## 3.1: Hello"
   ]
  },
  {
   "cell_type": "code",
   "execution_count": 2,
   "metadata": {
    "collapsed": true
   },
   "outputs": [],
   "source": [
    "def hello():\n",
    "    print(\"Hello, world!\")"
   ]
  },
  {
   "cell_type": "code",
   "execution_count": 3,
   "metadata": {
    "collapsed": true
   },
   "outputs": [],
   "source": [
    "def hello_name(name):\n",
    "    print(\"Hello, \"+ name + \"!\")"
   ]
  },
  {
   "cell_type": "code",
   "execution_count": 5,
   "metadata": {
    "collapsed": true
   },
   "outputs": [],
   "source": [
    "# \"print\" will output the chosen value on the screen. \"return\" will not print the value on the screen. Instead, when the function is called, it will have the value of the value it returns. For instance, if I define a variable in my main called resultFunction and assign it to a random function func(), then the variable will store the value that the funciton returns."
   ]
  },
  {
   "cell_type": "markdown",
   "metadata": {},
   "source": [
    "## 3.2: Polynomial"
   ]
  },
  {
   "cell_type": "code",
   "execution_count": 6,
   "metadata": {
    "collapsed": true
   },
   "outputs": [],
   "source": [
    "import math\n",
    "def bhaskara(a, b, c): # a, b, and c are ints that correspond to the polynomial's coefficients\n",
    "    delta = b ** 2 - 4 * a * c\n",
    "    if (delta >= 0):\n",
    "        x1 = (-b + math.sqrt(delta)) / (2 * a)\n",
    "        x2 = (-b - math.sqrt(delta)) / (2 * a)\n",
    "        print (\"x1 = \" + str(x1) + \", x2 = \" + str(x2))\n",
    "    else:\n",
    "        print (\"This polynomial can't be evaluated using real numbers.\")"
   ]
  },
  {
   "cell_type": "markdown",
   "metadata": {},
   "source": [
    "## 3.3: Maximum"
   ]
  },
  {
   "cell_type": "code",
   "execution_count": 7,
   "metadata": {
    "collapsed": true
   },
   "outputs": [],
   "source": [
    "def my_max(x, y):\n",
    "    if x > y:\n",
    "        return x\n",
    "    elif y >  x:\n",
    "        return y"
   ]
  },
  {
   "cell_type": "code",
   "execution_count": 8,
   "metadata": {
    "collapsed": true
   },
   "outputs": [],
   "source": [
    "def my_max(x, y):\n",
    "    if x >= y:\n",
    "        return x\n",
    "    return y"
   ]
  },
  {
   "cell_type": "markdown",
   "metadata": {},
   "source": [
    "## 3.4: Primes"
   ]
  },
  {
   "cell_type": "code",
   "execution_count": 13,
   "metadata": {
    "collapsed": true
   },
   "outputs": [],
   "source": [
    "def is_prime(n):\n",
    "    if (n <= 1):\n",
    "        return False\n",
    "    n = int(n)\n",
    "    isPrime = True;\n",
    "    for i in range(2, n):\n",
    "        if (n%i==0):\n",
    "            isPrime = False\n",
    "            return isPrime\n",
    "    return isPrime"
   ]
  },
  {
   "cell_type": "code",
   "execution_count": 14,
   "metadata": {
    "collapsed": true
   },
   "outputs": [],
   "source": [
    "def is_prime_6(n):\n",
    "    if ((n-1)%6 == 0):\n",
    "        if (n <= 1):\n",
    "            return False\n",
    "        n = int(n)\n",
    "        isPrime = True;\n",
    "        for i in range(2, n):\n",
    "            if (n%i==0):\n",
    "                isPrime = False\n",
    "                return isPrime\n",
    "        return isPrime\n",
    "    return False "
   ]
  },
  {
   "cell_type": "code",
   "execution_count": 15,
   "metadata": {
    "collapsed": true
   },
   "outputs": [],
   "source": [
    "def print_primes(n):\n",
    "    for i in range (0, n):\n",
    "        if (is_prime(i)):\n",
    "            print(i)\n"
   ]
  },
  {
   "cell_type": "code",
   "execution_count": 16,
   "metadata": {
    "collapsed": true
   },
   "outputs": [],
   "source": [
    "def first_primes(n):\n",
    "    counter = 0\n",
    "    tester = 0\n",
    "    while n > counter:\n",
    "        if (is_prime(tester)):\n",
    "            print (tester)\n",
    "            counter += 1\n",
    "            tester += 1\n",
    "        else:\n",
    "            tester += 1"
   ]
  },
  {
   "cell_type": "markdown",
   "metadata": {
    "collapsed": true
   },
   "source": [
    "## 3.5: Root finding"
   ]
  },
  {
   "cell_type": "code",
   "execution_count": 17,
   "metadata": {
    "collapsed": true
   },
   "outputs": [],
   "source": [
    "def root(f,a,b):\n",
    "    if (f(a) == f(b)):\n",
    "        c = f(a)\n",
    "        return c"
   ]
  },
  {
   "cell_type": "code",
   "execution_count": 18,
   "metadata": {
    "collapsed": true
   },
   "outputs": [],
   "source": [
    "def root(f,a,b):\n",
    "    if (f(a) == f(b)):\n",
    "        c = f(a)\n",
    "        return c"
   ]
  },
  {
   "cell_type": "code",
   "execution_count": 20,
   "metadata": {},
   "outputs": [],
   "source": [
    "def root(f,a,b):\n",
    "    if f(a) > 0 and f(b) > 0:\n",
    "        print (\"function evals have the same sign\")\n",
    "    elif f(a) < 0 and f(b) < 0:\n",
    "        print (\"function evals have the same sign\")\n",
    "    elif (f(a) == f(b)):\n",
    "        c = f(a)\n",
    "        return c"
   ]
  },
  {
   "cell_type": "code",
   "execution_count": null,
   "metadata": {
    "collapsed": true
   },
   "outputs": [],
   "source": []
  }
 ],
 "metadata": {
  "kernelspec": {
   "display_name": "Python 3",
   "language": "python",
   "name": "python3"
  },
  "language_info": {
   "codemirror_mode": {
    "name": "ipython",
    "version": 3
   },
   "file_extension": ".py",
   "mimetype": "text/x-python",
   "name": "python",
   "nbconvert_exporter": "python",
   "pygments_lexer": "ipython3",
   "version": "3.6.3"
  }
 },
 "nbformat": 4,
 "nbformat_minor": 2
}
