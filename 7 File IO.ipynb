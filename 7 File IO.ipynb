{
 "cells": [
  {
   "cell_type": "markdown",
   "metadata": {},
   "source": [
    "# 7. File I/O"
   ]
  },
  {
   "cell_type": "markdown",
   "metadata": {},
   "source": [
    "## 7.1: Open a File"
   ]
  },
  {
   "cell_type": "code",
   "execution_count": 2,
   "metadata": {
    "collapsed": true
   },
   "outputs": [],
   "source": [
    "def open_file(filename):\n",
    "    with open(filename, 'r') as f:\n",
    "        for line in f:\n",
    "            print(line, end =\"\")\n",
    "        print (\"\\n\")\n",
    "    f.close()"
   ]
  },
  {
   "cell_type": "markdown",
   "metadata": {},
   "source": [
    "## 7.2: Wordcount"
   ]
  },
  {
   "cell_type": "code",
   "execution_count": 3,
   "metadata": {
    "collapsed": true
   },
   "outputs": [],
   "source": [
    "def shakespeare_count(filename):\n",
    "    frequencyDict = {}\n",
    "    with open(filename, 'r') as f:\n",
    "        for line in f:\n",
    "            for word in line.split():\n",
    "                if word in frequencyDict:\n",
    "                    count = frequencyDict[word]\n",
    "                    count += 1\n",
    "                    frequencyDict = count\n",
    "                else :\n",
    "                    frequencyDict[word] = 1\n",
    "    f.close()\n",
    "    highestValue = 0\n",
    "    for key, value in frequencyDict:\n",
    "        if value >= highestValue:\n",
    "            highestValue = value\n",
    "    twenty_most_common = sorted(frequencyDict.keys(), key=lambda x: frequencyDict[x])[:20]\n",
    "    return twenty_most_common"
   ]
  },
  {
   "cell_type": "code",
   "execution_count": 4,
   "metadata": {
    "collapsed": true
   },
   "outputs": [],
   "source": [
    "def unique_words(filename):\n",
    "    wordSet = set()\n",
    "    with open(filename, 'r') as f:\n",
    "        for line in f:\n",
    "            for word in line.split():\n",
    "                wordSet.add(word)\n",
    "    f.close()\n",
    "    print(len(wordSet))"
   ]
  },
  {
   "cell_type": "code",
   "execution_count": 5,
   "metadata": {
    "collapsed": true
   },
   "outputs": [],
   "source": [
    "#TODO"
   ]
  },
  {
   "cell_type": "code",
   "execution_count": 6,
   "metadata": {
    "collapsed": true
   },
   "outputs": [],
   "source": [
    "#TODO"
   ]
  },
  {
   "cell_type": "markdown",
   "metadata": {},
   "source": [
    "## 7.3: Random Text Generator II"
   ]
  },
  {
   "cell_type": "code",
   "execution_count": 7,
   "metadata": {
    "collapsed": true
   },
   "outputs": [],
   "source": [
    "#TODO"
   ]
  },
  {
   "cell_type": "markdown",
   "metadata": {},
   "source": [
    "## 7.4: Sum of Lists"
   ]
  },
  {
   "cell_type": "code",
   "execution_count": 8,
   "metadata": {
    "collapsed": true
   },
   "outputs": [],
   "source": [
    "# Data generation\n",
    "import random\n",
    "def generate_data(n, a, b, filename):\n",
    "    randomList = []\n",
    "    with open(filename, 'w') as w:\n",
    "        while (n>0):\n",
    "            if (a > b):\n",
    "                randNumber = random.randint(b, a)\n",
    "                randomList.append(randNumber)\n",
    "            elif (b > a): \n",
    "                randNumber = random.randint(a, b)\n",
    "                randomList.append(randNumber)\n",
    "            n = n - 1\n",
    "        w.write(str(randomList))\n",
    "    w.close()"
   ]
  },
  {
   "cell_type": "code",
   "execution_count": 9,
   "metadata": {
    "collapsed": true
   },
   "outputs": [],
   "source": [
    "# Reading the Data\n",
    "\n",
    "def read_data(filename):\n",
    "    document = []\n",
    "    with open(filename, 'r') as f:\n",
    "        for line in f:\n",
    "            line = line.strip('[]')\n",
    "            document = line.split(',')\n",
    "    f.close()\n",
    "    return document"
   ]
  },
  {
   "cell_type": "code",
   "execution_count": 10,
   "metadata": {
    "collapsed": true
   },
   "outputs": [],
   "source": [
    "def sum_problem(file1, file2, k):\n",
    "    list1 = read_data(file1)\n",
    "    list2 = read_data(file2)\n",
    "    for item1 in list1:\n",
    "        for item2 in list2:\n",
    "            if (int(item1) + int(item2) == int(k)):\n",
    "                print(\"u: \",item1.strip(),\" / v: \", item2.strip())"
   ]
  },
  {
   "cell_type": "code",
   "execution_count": 13,
   "metadata": {},
   "outputs": [],
   "source": [
    "# Testing (copied from IDE)\n",
    "\n",
    "# >>> generate_data(2000,1,10000,\"file1.txt\")\n",
    "# >>> generate_data(2000,1,10000,\"file2.txt\")\n",
    "# >>> sum_problem(\"file1.txt\",\"file2.txt\",5000)\n",
    "# u:  1615  / v:  3385\n",
    "# u:  1598  / v:  3402\n",
    "# u:  3005  / v:  1995\n",
    "# u:  4450  / v:  550\n",
    "# u:  2702  / v:  2298\n",
    "# u:  2187  / v:  2813\n",
    "# u:  611  / v:  4389\n",
    "# u:  843  / v:  4157\n",
    "# u:  4126  / v:  874\n",
    "# u:  4126  / v:  874\n",
    "# u:  3379  / v:  1621\n",
    "# u:  2079  / v:  2921\n",
    "# u:  4736  / v:  264\n",
    "# u:  4479  / v:  521\n",
    "# u:  2079  / v:  2921\n",
    "# + 180 lines\n",
    "\n",
    "# >>> sum_problem(\"file1.txt\",\"file2.txt\",12000)\n",
    "# u:  5506  / v:  6494\n",
    "# u:  9949  / v:  2051\n",
    "# u:  5046  / v:  6954\n",
    "# u:  2277  / v:  9723\n",
    "# u:  6629  / v:  5371\n",
    "# u:  7226  / v:  4774\n",
    "# + 306 lines\n",
    "\n"
   ]
  },
  {
   "cell_type": "code",
   "execution_count": null,
   "metadata": {
    "collapsed": true
   },
   "outputs": [],
   "source": []
  }
 ],
 "metadata": {
  "kernelspec": {
   "display_name": "Python 3",
   "language": "python",
   "name": "python3"
  },
  "language_info": {
   "codemirror_mode": {
    "name": "ipython",
    "version": 3
   },
   "file_extension": ".py",
   "mimetype": "text/x-python",
   "name": "python",
   "nbconvert_exporter": "python",
   "pygments_lexer": "ipython3",
   "version": "3.6.3"
  }
 },
 "nbformat": 4,
 "nbformat_minor": 2
}
