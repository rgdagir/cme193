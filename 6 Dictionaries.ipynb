{
 "cells": [
  {
   "cell_type": "markdown",
   "metadata": {},
   "source": [
    "# 6. Dictionaries"
   ]
  },
  {
   "cell_type": "markdown",
   "metadata": {},
   "source": [
    "## 6.1: Printing a Dictionary"
   ]
  },
  {
   "cell_type": "code",
   "execution_count": 1,
   "metadata": {
    "collapsed": true
   },
   "outputs": [],
   "source": [
    "def print_dict(dict):\n",
    "    for key, value in dict.items():\n",
    "        print (key + \": \" + value)"
   ]
  },
  {
   "cell_type": "markdown",
   "metadata": {},
   "source": [
    "## 6.2: Histogram"
   ]
  },
  {
   "cell_type": "code",
   "execution_count": 3,
   "metadata": {
    "collapsed": true
   },
   "outputs": [],
   "source": [
    "def histogram(list):\n",
    "    dict = {};\n",
    "    for item in list:\n",
    "        if item in dict:\n",
    "            value = dict[item];\n",
    "            value += 1;\n",
    "            dict[item] = value;\n",
    "        else:\n",
    "            dict[item] = 1;\n",
    "    print (dict)\n",
    "\n",
    "# I feel that using counter would make the problem harder than it is\n",
    "\n"
   ]
  },
  {
   "cell_type": "markdown",
   "metadata": {
    "collapsed": true
   },
   "source": [
    "## 6.3: Get Method"
   ]
  },
  {
   "cell_type": "code",
   "execution_count": 4,
   "metadata": {
    "collapsed": true
   },
   "outputs": [],
   "source": [
    "def get_method(dictionary, key, default):\n",
    "    for k, v in dictionary.items():\n",
    "        if (k == key):\n",
    "            return v\n",
    "        return default"
   ]
  },
  {
   "cell_type": "markdown",
   "metadata": {},
   "source": [
    "## 6.5: Vector Functions"
   ]
  },
  {
   "cell_type": "code",
   "execution_count": 5,
   "metadata": {
    "collapsed": true
   },
   "outputs": [],
   "source": [
    "def add_dense_vectors(vector1, vector2):\n",
    "    vector_final = []\n",
    "    if (len(vector1)!=len(vector2)):\n",
    "        return;\n",
    "    else:\n",
    "        for x, y in zip(vector1, vector2):\n",
    "            coordinate = x + y\n",
    "            vector_final.append(coordinate)\n",
    "        print(vector_final)"
   ]
  },
  {
   "cell_type": "code",
   "execution_count": 6,
   "metadata": {
    "collapsed": true
   },
   "outputs": [],
   "source": [
    "import numpy\n",
    "def dense_dot_product(vector1, vector2):\n",
    "    product = numpy.dot(vector1, vector2)\n",
    "    print(product)"
   ]
  },
  {
   "cell_type": "code",
   "execution_count": 7,
   "metadata": {
    "collapsed": true
   },
   "outputs": [],
   "source": [
    "def convert_sparse_to_dense(dict):\n",
    "    vector_list = []\n",
    "    for key, value in dict.items():\n",
    "        vector_list.append(value)\n",
    "    return vector_list\n",
    "\n",
    "def add_sparse_vectors(vector1, vector2):\n",
    "    vector1 = convert_sparse_to_dense(vector1)\n",
    "    vector2 = convert_sparse_to_dense(vector2)\n",
    "    vector_final = []\n",
    "    if (len(vector1)!=len(vector2)):\n",
    "        return;\n",
    "    else:\n",
    "        for x, y in zip(vector1, vector2):\n",
    "            coordinate = x + y\n",
    "            vector_final.append(coordinate)\n",
    "        print(vector_final)"
   ]
  },
  {
   "cell_type": "code",
   "execution_count": 8,
   "metadata": {
    "collapsed": true
   },
   "outputs": [],
   "source": [
    "import numpy\n",
    "def convert_sparse_to_dense(dict):\n",
    "    vector_list = []\n",
    "    for key, value in dict.items():\n",
    "        vector_list.append(value)\n",
    "    return vector_list\n",
    "\n",
    "def sparse_dot_product(vector1, vector2):\n",
    "    vector1 = convert_sparse_to_dense(vector1)\n",
    "    vector2 = convert_sparse_to_dense(vector2)   \n",
    "    product = numpy.dot(vector1, vector2)\n",
    "    print(product)"
   ]
  },
  {
   "cell_type": "code",
   "execution_count": 9,
   "metadata": {
    "collapsed": true
   },
   "outputs": [],
   "source": [
    "def add_dense_sparse(vector1, vector2):\n",
    "    if type(vector1) is dict:\n",
    "        # then vector1 is sparse, so convert it\n",
    "        vector1 = convert_sparse_to_dense(vector1)\n",
    "        vector_final = []\n",
    "        if (len(vector1)!=len(vector2)):\n",
    "            return;\n",
    "        else:\n",
    "            for x, y in zip(vector1, vector2):\n",
    "                coordinate = x + y\n",
    "                vector_final.append(coordinate)\n",
    "            print(vector_final)\n",
    "    elif type(vector2) is dict:\n",
    "        # then vector1 is sparse, so convert it\n",
    "        vector2 = convert_sparse_to_dense(vector2)\n",
    "        vector_final = []\n",
    "        if (len(vector1)!=len(vector2)):\n",
    "            return;\n",
    "        else:\n",
    "            for x, y in zip(vector1, vector2):\n",
    "                coordinate = x + y\n",
    "                vector_final.append(coordinate)\n",
    "            print(vector_final)"
   ]
  },
  {
   "cell_type": "code",
   "execution_count": 10,
   "metadata": {
    "collapsed": true
   },
   "outputs": [],
   "source": [
    "import numpy\n",
    "def dense_dot_product(vector1, vector2):\n",
    "    product = numpy.dot(vector1, vector2)\n",
    "    print(product)\n",
    "    \n",
    "def dot_product_dense_sparse(vector1, vector2):\n",
    "    if type(vector1) is dict:\n",
    "        # then vector1 is sparse, so convert it\n",
    "        vector1 = convert_sparse_to_dense(vector1)\n",
    "        vector_final = []\n",
    "        if (len(vector1)!=len(vector2)):\n",
    "            return;\n",
    "        else:\n",
    "           dense_dot_product(vector1, vector2)\n",
    "    elif type(vector2) is dict:\n",
    "        # then vector2 is sparse, so convert it\n",
    "        vector2 = convert_sparse_to_dense(vector2)\n",
    "        vector_final = []\n",
    "        if (len(vector1)!=len(vector2)):\n",
    "            return;\n",
    "        else:\n",
    "            dense_dot_product(vector1, vector2)"
   ]
  },
  {
   "cell_type": "markdown",
   "metadata": {},
   "source": [
    "## 6.6: Reverse Look-Up"
   ]
  },
  {
   "cell_type": "code",
   "execution_count": 11,
   "metadata": {
    "collapsed": true
   },
   "outputs": [],
   "source": [
    "def reverse_lookup(dict, toFind):\n",
    "    for key, value in dict.items():\n",
    "        if (value == toFind):\n",
    "            print (key)"
   ]
  },
  {
   "cell_type": "code",
   "execution_count": 14,
   "metadata": {},
   "outputs": [
    {
     "name": "stdout",
     "output_type": "stream",
     "text": [
      "friends\n"
     ]
    }
   ],
   "source": [
    "# test\n",
    "myDict = {\"name\":\"Raul\", \"age\":\"18\", \"lastname\": \"Dagir\", \"friends\":\"Jadal\"}\n",
    "reverse_lookup(myDict, \"Jadal\")"
   ]
  },
  {
   "cell_type": "code",
   "execution_count": null,
   "metadata": {
    "collapsed": true
   },
   "outputs": [],
   "source": []
  }
 ],
 "metadata": {
  "kernelspec": {
   "display_name": "Python 3",
   "language": "python",
   "name": "python3"
  },
  "language_info": {
   "codemirror_mode": {
    "name": "ipython",
    "version": 3
   },
   "file_extension": ".py",
   "mimetype": "text/x-python",
   "name": "python",
   "nbconvert_exporter": "python",
   "pygments_lexer": "ipython3",
   "version": "3.6.3"
  }
 },
 "nbformat": 4,
 "nbformat_minor": 2
}
