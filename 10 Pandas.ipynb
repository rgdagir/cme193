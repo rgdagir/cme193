{
 "cells": [
  {
   "cell_type": "markdown",
   "metadata": {},
   "source": [
    "# 10. Pandas"
   ]
  },
  {
   "cell_type": "markdown",
   "metadata": {},
   "source": [
    "## Exploring Historical Stock Prices"
   ]
  },
  {
   "cell_type": "code",
   "execution_count": 3,
   "metadata": {},
   "outputs": [
    {
     "data": {
      "image/png": "[encoded data removed]",
      "text/plain": [
       "<matplotlib.figure.Figure at 0x11475cac8>"
      ]
     },
     "metadata": {},
     "output_type": "display_data"
    }
   ],
   "source": [
    "import numpy as np\n",
    "import pandas as pd\n",
    "import matplotlib.pyplot as plt\n",
    "\n",
    "csvfile = pd.read_csv(\"../AAPL_2008-2017.csv\")\n",
    "plott = csvfile.plot(x=\"Date\", y = \"Close\")\n",
    "plott.set_xlabel(\"Date\")\n",
    "plott.set_ylabel(\"Price (in US Dollars)\")\n",
    "plott.set_title(\"AAPL Prices since 2008\")\n",
    "plt.show()\n"
   ]
  },
  {
   "cell_type": "code",
   "execution_count": 6,
   "metadata": {
    "collapsed": true
   },
   "outputs": [],
   "source": [
    "import numpy as np\n",
    "import pandas as pd\n",
    "import matplotlib.pyplot as plt\n",
    "\n",
    "csvfile = pd.read_csv(\"../AAPL_2008-2017.csv\")\n",
    "csvfile[\"Return\"] = csvfile[\"Close\"].pct_change(1)"
   ]
  },
  {
   "cell_type": "code",
   "execution_count": 7,
   "metadata": {},
   "outputs": [
    {
     "data": {
      "text/plain": [
       "0.02688156386454594"
      ]
     },
     "execution_count": 7,
     "metadata": {},
     "output_type": "execute_result"
    }
   ],
   "source": [
    "csvfile[\"Return\"].std(0)"
   ]
  },
  {
   "cell_type": "code",
   "execution_count": 8,
   "metadata": {},
   "outputs": [
    {
     "name": "stdout",
     "output_type": "stream",
     "text": [
      "Best:  2012-09-19\n",
      "Worst:  2009-01-20\n"
     ]
    }
   ],
   "source": [
    "best = 0\n",
    "worst = 100\n",
    "for index, imitem in csvfile[\"Close\"].iteritems():\n",
    "    if (imitem > best):\n",
    "        best = imitem\n",
    "    elif (worst >= imitem):\n",
    "        worst = imitem\n",
    "\n",
    "        \n",
    "date_best = csvfile[(csvfile[\"Close\"]==best)][\"Date\"]\n",
    "print(\"Best: \", date_best.item())\n",
    "date_worst = csvfile[(csvfile[\"Close\"]==worst)][\"Date\"]\n",
    "print(\"Worst: \", date_worst.item())"
   ]
  },
  {
   "cell_type": "code",
   "execution_count": 9,
   "metadata": {
    "collapsed": true
   },
   "outputs": [],
   "source": [
    "# d) TODO"
   ]
  },
  {
   "cell_type": "markdown",
   "metadata": {},
   "source": [
    "## 10.2: Exploring Alcohol Consumptions Across Nations"
   ]
  },
  {
   "cell_type": "code",
   "execution_count": 11,
   "metadata": {},
   "outputs": [
    {
     "name": "stdout",
     "output_type": "stream",
     "text": [
      "Namibia\n"
     ]
    }
   ],
   "source": [
    "df = pd.read_csv(\"../alcohol.csv\")\n",
    "africa = df[df[\"continent\"] == \"AF\"]\n",
    "africa = africa.filter(items = [\"country\", \"beer_servings\"])\n",
    "maxbeer = africa.loc[africa['beer_servings'].idxmax()]\n",
    "print(maxbeer[\"country\"])"
   ]
  },
  {
   "cell_type": "code",
   "execution_count": 12,
   "metadata": {},
   "outputs": [
    {
     "name": "stdout",
     "output_type": "stream",
     "text": [
      "1                           Albania\n",
      "3                           Andorra\n",
      "4                            Angola\n",
      "5                 Antigua & Barbuda\n",
      "6                         Argentina\n",
      "8                         Australia\n",
      "9                           Austria\n",
      "11                          Bahamas\n",
      "14                         Barbados\n",
      "15                          Belarus\n",
      "16                          Belgium\n",
      "17                           Belize\n",
      "20                          Bolivia\n",
      "21               Bosnia-Herzegovina\n",
      "22                         Botswana\n",
      "23                           Brazil\n",
      "25                         Bulgaria\n",
      "27                          Burundi\n",
      "29                       Cabo Verde\n",
      "30                         Cambodia\n",
      "31                         Cameroon\n",
      "32                           Canada\n",
      "35                            Chile\n",
      "36                            China\n",
      "37                         Colombia\n",
      "39                            Congo\n",
      "41                       Costa Rica\n",
      "42                          Croatia\n",
      "43                             Cuba\n",
      "44                           Cyprus\n",
      "                   ...             \n",
      "141              Russian Federation\n",
      "143               St. Kitts & Nevis\n",
      "144                       St. Lucia\n",
      "145    St. Vincent & the Grenadines\n",
      "146                           Samoa\n",
      "148             Sao Tome & Principe\n",
      "151                          Serbia\n",
      "152                      Seychelles\n",
      "154                       Singapore\n",
      "155                        Slovakia\n",
      "156                        Slovenia\n",
      "157                 Solomon Islands\n",
      "159                    South Africa\n",
      "160                           Spain\n",
      "163                        Suriname\n",
      "164                       Swaziland\n",
      "165                          Sweden\n",
      "166                     Switzerland\n",
      "169                        Thailand\n",
      "170                       Macedonia\n",
      "174               Trinidad & Tobago\n",
      "175                         Tunisia\n",
      "176                          Turkey\n",
      "180                         Ukraine\n",
      "182                  United Kingdom\n",
      "184                             USA\n",
      "185                         Uruguay\n",
      "188                       Venezuela\n",
      "189                         Vietnam\n",
      "192                        Zimbabwe\n",
      "Name: country, Length: 114, dtype: object\n"
     ]
    }
   ],
   "source": [
    "# more than 50 servings of beer\n",
    "over_fifty = df[df[\"beer_servings\"] > 50]\n",
    "print(over_fifty[\"country\"])"
   ]
  },
  {
   "cell_type": "code",
   "execution_count": 13,
   "metadata": {},
   "outputs": [
    {
     "name": "stdout",
     "output_type": "stream",
     "text": [
      "1                           Albania\n",
      "3                           Andorra\n",
      "4                            Angola\n",
      "5                 Antigua & Barbuda\n",
      "7                           Armenia\n",
      "8                         Australia\n",
      "9                           Austria\n",
      "11                          Bahamas\n",
      "12                          Bahrain\n",
      "14                         Barbados\n",
      "15                          Belarus\n",
      "16                          Belgium\n",
      "17                           Belize\n",
      "21               Bosnia-Herzegovina\n",
      "23                           Brazil\n",
      "25                         Bulgaria\n",
      "29                       Cabo Verde\n",
      "30                         Cambodia\n",
      "32                           Canada\n",
      "35                            Chile\n",
      "36                            China\n",
      "37                         Colombia\n",
      "40                     Cook Islands\n",
      "41                       Costa Rica\n",
      "42                          Croatia\n",
      "43                             Cuba\n",
      "44                           Cyprus\n",
      "45                   Czech Republic\n",
      "48                          Denmark\n",
      "50                         Dominica\n",
      "                   ...             \n",
      "130                          Panama\n",
      "132                        Paraguay\n",
      "133                            Peru\n",
      "134                     Philippines\n",
      "135                          Poland\n",
      "136                        Portugal\n",
      "139                         Moldova\n",
      "140                         Romania\n",
      "141              Russian Federation\n",
      "143               St. Kitts & Nevis\n",
      "144                       St. Lucia\n",
      "145    St. Vincent & the Grenadines\n",
      "151                          Serbia\n",
      "155                        Slovakia\n",
      "156                        Slovenia\n",
      "159                    South Africa\n",
      "160                           Spain\n",
      "161                       Sri Lanka\n",
      "163                        Suriname\n",
      "165                          Sweden\n",
      "166                     Switzerland\n",
      "169                        Thailand\n",
      "174               Trinidad & Tobago\n",
      "177                    Turkmenistan\n",
      "180                         Ukraine\n",
      "181            United Arab Emirates\n",
      "182                  United Kingdom\n",
      "184                             USA\n",
      "186                      Uzbekistan\n",
      "188                       Venezuela\n",
      "Name: country, Length: 99, dtype: object\n"
     ]
    }
   ],
   "source": [
    "# more than 50 servings of spirit\n",
    "over_fifty = df[df[\"spirit_servings\"] > 50]\n",
    "print(over_fifty[\"country\"])"
   ]
  },
  {
   "cell_type": "code",
   "execution_count": 15,
   "metadata": {},
   "outputs": [
    {
     "data": {
      "image/png": "[encoded data removed]",
      "text/plain": [
       "<matplotlib.figure.Figure at 0x10e42fd68>"
      ]
     },
     "metadata": {},
     "output_type": "display_data"
    }
   ],
   "source": [
    "# ORDER: AFRICA ASIA EUROPE NORTH AMERICA OCEANIA SOUTHAMERICA\n",
    "import numpy as np\n",
    "import matplotlib.pyplot as plt\n",
    "import pandas as pd\n",
    "import matplotlib.patches as mpatches\n",
    "df = pd.read_csv(\"../alcohol.csv\")\n",
    "asia = df[df[\"continent\"] == \"AS\"]\n",
    "oceania = df[df[\"continent\"] == \"OC\"]\n",
    "africa = df[df[\"continent\"] == \"AF\"]\n",
    "europe = df[df[\"continent\"] == \"EU\"]\n",
    "sa = df[df[\"continent\"] == \"SA\"]\n",
    "na = df[df[\"continent\"] == \"NAM\"]\n",
    "beerbar = [africa[\"beer_servings\"].sum(), asia[\"beer_servings\"].sum(), na[\"beer_servings\"].sum(), oceania[\"beer_servings\"].sum(), sa[\"beer_servings\"].sum()]\n",
    "spiritbar = [africa[\"spirit_servings\"].sum(), asia[\"spirit_servings\"].sum(), na[\"spirit_servings\"].sum(), oceania[\"spirit_servings\"].sum(), sa[\"spirit_servings\"].sum()]\n",
    "winebar = [africa[\"wine_servings\"].sum(), asia[\"wine_servings\"].sum(), na[\"wine_servings\"].sum(), oceania[\"wine_servings\"].sum(), sa[\"wine_servings\"].sum()]\n",
    "x = [\"Africa\", \"Asia\", \"North America\", \"Oceania\", \"South America\"]\n",
    "plt.bar(x, beerbar, color = \"yellow\")\n",
    "plt.bar(x, spiritbar, color = \"blue\", bottom=beerbar)\n",
    "plt.bar(x, winebar, color = \"m\", bottom = list(map(lambda x, y: x+y, beerbar, spiritbar)))\n",
    "plt.title(\"Alcohol Consumption per Continent\")\n",
    "plt.xlabel(\"Amount of servings\")\n",
    "plt.ylabel(\" Continent\")\n",
    "beerpatch = mpatches.Patch(color=\"yellow\", label = \"Beer\")\n",
    "spiritpatch = mpatches.Patch(color = \"blue\", label = \"Spirit\")\n",
    "winepatch = mpatches.Patch(color = \"m\", label = \"Wine\")\n",
    "plt.legend(handles = [beerpatch, spiritpatch, winepatch], loc = \"upper left\")\n",
    "plt.show()"
   ]
  },
  {
   "cell_type": "code",
   "execution_count": null,
   "metadata": {
    "collapsed": true
   },
   "outputs": [],
   "source": []
  }
 ],
 "metadata": {
  "kernelspec": {
   "display_name": "Python 3",
   "language": "python",
   "name": "python3"
  },
  "language_info": {
   "codemirror_mode": {
    "name": "ipython",
    "version": 3
   },
   "file_extension": ".py",
   "mimetype": "text/x-python",
   "name": "python",
   "nbconvert_exporter": "python",
   "pygments_lexer": "ipython3",
   "version": "3.6.3"
  }
 },
 "nbformat": 4,
 "nbformat_minor": 2
}
